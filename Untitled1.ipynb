{
 "cells": [
  {
   "cell_type": "code",
   "execution_count": 1,
   "id": "85215513-aa9b-4d21-9db7-0fa843925751",
   "metadata": {},
   "outputs": [
    {
     "name": "stdout",
     "output_type": "stream",
     "text": [
      "{'Count': '343', 'RetMax': '20', 'RetStart': '0', 'IdList': ['2202903211', '1304164346', '1592021445', '2177973630', '2177973611', '2177710939', '2177699902', '2157228631', '2112722214', '2112713974', '2086907121', '2077483948', '2077483945', '2077483900', '2077481542', '2077481539', '2076537289', '2076528979', '2076518480', '2076515798'], 'TranslationSet': [{'From': 'Oryza sativa', 'To': '\"Oryza sativa\"[Organism] OR Oryza sativa[All Fields]'}], 'TranslationStack': [{'Term': '\"Oryza sativa\"[Organism]', 'Field': 'Organism', 'Count': '2286998', 'Explode': 'Y'}, {'Term': 'Oryza sativa[All Fields]', 'Field': 'All Fields', 'Count': '2927831', 'Explode': 'N'}, 'OR', 'GROUP', {'Term': 'ferritin[All Fields]', 'Field': 'All Fields', 'Count': '131887', 'Explode': 'N'}, 'AND', 'GROUP'], 'QueryTranslation': '(\"Oryza sativa\"[Organism] OR Oryza sativa[All Fields]) AND ferritin[All Fields]'}\n"
     ]
    }
   ],
   "source": [
    "#Code 1\n",
    "\n",
    "from Bio import Entrez\n",
    "\n",
    "Entrez.email = \"localuser@localhost.localdomain\" #Mandatory! Can be replaced with your personal email.\n",
    "\n",
    "#creating handle\n",
    "\n",
    "handle = Entrez.esearch(db=\"nuccore\", term=\"Oryza sativa ferritin\")\n",
    "\n",
    "record = Entrez.read(handle)\n",
    "\n",
    "print(record)\n",
    "\n",
    "handle.close() #always close your handle after you finish"
   ]
  },
  {
   "cell_type": "code",
   "execution_count": 4,
   "id": "f9619631-59d3-4597-8359-8bf8e414ec55",
   "metadata": {},
   "outputs": [
    {
     "name": "stdout",
     "output_type": "stream",
     "text": [
      "LOCUS       AF519571                1215 bp    mRNA    linear   PLN 23-AUG-2004\n",
      "DEFINITION  Oryza sativa (japonica cultivar-group) ferritin (Fer2) mRNA,\n",
      "            complete cds.\n",
      "ACCESSION   AF519571\n",
      "VERSION     AF519571.1\n",
      "KEYWORDS    .\n",
      "SOURCE      Oryza sativa Japonica Group (Japanese rice)\n",
      "  ORGANISM  Oryza sativa Japonica Group\n",
      "            Eukaryota; Viridiplantae; Streptophyta; Embryophyta; Tracheophyta;\n",
      "            Spermatophyta; Magnoliopsida; Liliopsida; Poales; Poaceae; BOP\n",
      "            clade; Oryzoideae; Oryzeae; Oryzinae; Oryza; Oryza sativa.\n",
      "REFERENCE   1  (bases 1 to 1215)\n",
      "  AUTHORS   Groos,J., Stein,J.R., Fett-Neto,A.G. and Fett,J.P.\n",
      "  TITLE     Iron homeostasis related genes in rice\n",
      "  JOURNAL   Genet. Mol. Biol. 26, 477-497 (2003)\n",
      "REFERENCE   2  (bases 1 to 1215)\n",
      "  AUTHORS   Groos,J., Fett-Neto,A.G. and Fett,J.P.\n",
      "  TITLE     Direct Submission\n",
      "  JOURNAL   Submitted (06-JUN-2002) Departamento de Botanica / Centro de\n",
      "            Biotecnologia, Universidade Federal do Rio Grande do Sul, Avenida\n",
      "            Bento Goncalves, 9500. Caixa Postal 15005, Porto Alegre, Rio Grande\n",
      "            do Sul 91501-970, Brazil\n",
      "FEATURES             Location/Qualifiers\n",
      "     source          1..1215\n",
      "                     /organism=\"Oryza sativa Japonica Group\"\n",
      "                     /mol_type=\"mRNA\"\n",
      "                     /cultivar=\"Nipponbare\"\n",
      "                     /db_xref=\"taxon:39947\"\n",
      "                     /chromosome=\"XII\"\n",
      "                     /clone=\"E31449_3A\"\n",
      "                     /tissue_type=\"panicle shorter than 3cm\"\n",
      "                     /note=\"derived from EST AU064475\"\n",
      "     gene            1..1215\n",
      "                     /gene=\"Fer2\"\n",
      "     CDS             70..837\n",
      "                     /gene=\"Fer2\"\n",
      "                     /note=\"iron storage protein; genomic sequence found in\n",
      "                     GenBank Accession Number AL513402\"\n",
      "                     /codon_start=1\n",
      "                     /product=\"ferritin\"\n",
      "                     /protein_id=\"AAM74943.1\"\n",
      "                     /translation=\"MLPPRVAPSSLAAAAAAAPTYLAAAASTPASVWLPVPRGAGAVA\n",
      "                     VCRAAGKGKEVLSGVVFQPFEELKGELSLVPQAKDQSLARQKFVDECEAAISEQINVE\n",
      "                     FNASYAYHSLFAYFDRDNVALKGFAKFFKESSDEERDHAEKLMKYQNMRGGRVRLQSI\n",
      "                     VTPLTEFDHPEKGDALYAMELALALEKLVNEKLHNLHSVASRCNDPQLTDFVESEFLE\n",
      "                     EQVEAIKKISEYVAQLRRVGKGHGVWHFDQKLLEEEA\"\n",
      "ORIGIN      \n",
      "        1 ctcttcaccc gccgcgccgc gaactccgga accgaacgcc acacgcgcct tcctctcact\n",
      "       61 taatccgcca tgcttcctcc tagggttgcc ccctcctctc tggccgccgc cgccgccgcg\n",
      "      121 gcgcctacct atctcgccgc cgcggcctcg acccctgctt ccgtctggct gcctgtgccg\n",
      "      181 cgtggagccg gagccgtggc agtgtgcagg gccgccggga aagggaagga ggtgctcagc\n",
      "      241 ggcgtggtct tccagccatt cgaggagctc aagggggagc tctccctcgt cccccaggcc\n",
      "      301 aaggaccagt ctcttgctag gcaaaagttc gtcgacgagt gcgaggccgc catcagcgag\n",
      "      361 cagatcaatg tggagttcaa tgcatcgtac gcgtaccact cccttttcgc ctactttgac\n",
      "      421 cgtgacaacg ttgctctcaa gggattcgcc aaattcttca aagaatccag cgatgaggag\n",
      "      481 agggatcacg cagagaaact catgaagtac cagaacatgc gtggaggcag ggtgcggctc\n",
      "      541 cagtccatcg tcacaccctt gacagagttc gaccatcctg agaaagggga tgccttgtat\n",
      "      601 gctatggagt tggccttggc tctcgaaaag cttgtaaatg agaagttgca caacctgcac\n",
      "      661 agtgtggcat caaggtgcaa tgatccacag ctgaccgact tcgttgagag cgaattcctt\n",
      "      721 gaggagcagg ttgaagccat caagaagatc tctgagtatg tcgcccagct gagaagagtg\n",
      "      781 ggaaaggggc atggggtgtg gcactttgat cagaagctgc ttgaggaaga agcttgaatg\n",
      "      841 gaggagacgg tgtgaagggc agtagtaggt ttcgtttctt ccatccatgg gatcatgcag\n",
      "      901 ctaaagaaag aaaataagtc gagtctgtgt attcatcaaa ttaagcacgc agtagcaatg\n",
      "      961 gagtgaatga accaaccaat ttggtcatga acttccccct gtgtctaggt cagtagagct\n",
      "     1021 tcagaatcat gtgtatgtcg cgcgtcctcg cagaaaagga acatggcgcg gctggctgta\n",
      "     1081 gcgatacttg tgatattgtg gctatgcatg gagtcatggt gatggtgtat tttggggagc\n",
      "     1141 atttacacgt ttgttgctag agagattttg ctggcagcca gtaaggaaca gtatgataat\n",
      "     1201 ccattgtggt gttaa\n",
      "//\n",
      "\n",
      "\n"
     ]
    }
   ],
   "source": [
    "efetch_handle = Entrez.efetch(db=\"nuccore\", id=\"21686527\", rettype=\"gb\", retmode=\"text\")\n",
    "gbrecord = efetch_handle.read()\n",
    "print(gbrecord)"
   ]
  },
  {
   "cell_type": "code",
   "execution_count": 3,
   "id": "99f7e051-b76a-43a4-8555-552e6b842986",
   "metadata": {},
   "outputs": [
    {
     "name": "stdout",
     "output_type": "stream",
     "text": [
      ">AF519571.1 Oryza sativa (japonica cultivar-group) ferritin (Fer2) mRNA, complete cds\n",
      "CTCTTCACCCGCCGCGCCGCGAACTCCGGAACCGAACGCCACACGCGCCTTCCTCTCACTTAATCCGCCA\n",
      "TGCTTCCTCCTAGGGTTGCCCCCTCCTCTCTGGCCGCCGCCGCCGCCGCGGCGCCTACCTATCTCGCCGC\n",
      "CGCGGCCTCGACCCCTGCTTCCGTCTGGCTGCCTGTGCCGCGTGGAGCCGGAGCCGTGGCAGTGTGCAGG\n",
      "GCCGCCGGGAAAGGGAAGGAGGTGCTCAGCGGCGTGGTCTTCCAGCCATTCGAGGAGCTCAAGGGGGAGC\n",
      "TCTCCCTCGTCCCCCAGGCCAAGGACCAGTCTCTTGCTAGGCAAAAGTTCGTCGACGAGTGCGAGGCCGC\n",
      "CATCAGCGAGCAGATCAATGTGGAGTTCAATGCATCGTACGCGTACCACTCCCTTTTCGCCTACTTTGAC\n",
      "CGTGACAACGTTGCTCTCAAGGGATTCGCCAAATTCTTCAAAGAATCCAGCGATGAGGAGAGGGATCACG\n",
      "CAGAGAAACTCATGAAGTACCAGAACATGCGTGGAGGCAGGGTGCGGCTCCAGTCCATCGTCACACCCTT\n",
      "GACAGAGTTCGACCATCCTGAGAAAGGGGATGCCTTGTATGCTATGGAGTTGGCCTTGGCTCTCGAAAAG\n",
      "CTTGTAAATGAGAAGTTGCACAACCTGCACAGTGTGGCATCAAGGTGCAATGATCCACAGCTGACCGACT\n",
      "TCGTTGAGAGCGAATTCCTTGAGGAGCAGGTTGAAGCCATCAAGAAGATCTCTGAGTATGTCGCCCAGCT\n",
      "GAGAAGAGTGGGAAAGGGGCATGGGGTGTGGCACTTTGATCAGAAGCTGCTTGAGGAAGAAGCTTGAATG\n",
      "GAGGAGACGGTGTGAAGGGCAGTAGTAGGTTTCGTTTCTTCCATCCATGGGATCATGCAGCTAAAGAAAG\n",
      "AAAATAAGTCGAGTCTGTGTATTCATCAAATTAAGCACGCAGTAGCAATGGAGTGAATGAACCAACCAAT\n",
      "TTGGTCATGAACTTCCCCCTGTGTCTAGGTCAGTAGAGCTTCAGAATCATGTGTATGTCGCGCGTCCTCG\n",
      "CAGAAAAGGAACATGGCGCGGCTGGCTGTAGCGATACTTGTGATATTGTGGCTATGCATGGAGTCATGGT\n",
      "GATGGTGTATTTTGGGGAGCATTTACACGTTTGTTGCTAGAGAGATTTTGCTGGCAGCCAGTAAGGAACA\n",
      "GTATGATAATCCATTGTGGTGTTAA\n",
      "\n",
      "\n"
     ]
    }
   ],
   "source": [
    "efetch_handle = Entrez.efetch(db=\"nuccore\", id=\"21686527\", rettype=\"fasta\", retmode=\"text\")\n",
    "gbrecord = efetch_handle.read()\n",
    "print(gbrecord)"
   ]
  },
  {
   "cell_type": "code",
   "execution_count": 6,
   "id": "fc7a743e-21a6-468c-96d2-6d9fc310ec90",
   "metadata": {},
   "outputs": [
    {
     "name": "stdout",
     "output_type": "stream",
     "text": [
      "FASTA Download\n"
     ]
    }
   ],
   "source": [
    "import os\n",
    "\n",
    "#creating EFetch handle\n",
    "filename = \" satu ferritin Oryza sativa.fasta\" #up to you, but FASTA files always use *.fasta or *.fas\n",
    "\n",
    "#creating EFetch handle\n",
    "if not os.path.isfile(filename):\n",
    "    # Downloading file...\n",
    "    efetch_handle = Entrez.efetch(db=\"nuccore\", id=\"21686527\", rettype=\"fasta\", retmode=\"text\")\n",
    "    output_file_handle = open(filename, \"w\")\n",
    "    output_file_handle.write(efetch_handle.read())\n",
    "    output_file_handle.close()\n",
    "    efetch_handle.close()\n",
    "    print(\"FASTA Download\")"
   ]
  },
  {
   "cell_type": "code",
   "execution_count": 8,
   "id": "ed8893f5-f443-4df8-9f2e-1ffa52b3ff9f",
   "metadata": {},
   "outputs": [
    {
     "name": "stdout",
     "output_type": "stream",
     "text": [
      "GB Downloaded\n"
     ]
    }
   ],
   "source": [
    "#creating EFetch handle\n",
    "filename = \"dua satu ferritin Oryza sativa complete chloroplast.gbk\" #up to you, but Genbank files always use *.gb or *.gbk\n",
    "\n",
    "#creating EFetch handle\n",
    "if not os.path.isfile(filename):\n",
    "    # Downloading file...\n",
    "    efetch_handle = Entrez.efetch(db=\"nuccore\", id=\"2202903211\", rettype=\"gb\", retmode=\"text\")\n",
    "    output_file_handle = open(filename, \"w\")\n",
    "    output_file_handle.write(efetch_handle.read())\n",
    "    output_file_handle.close()\n",
    "    efetch_handle.close()\n",
    "    print(\"GB Downloaded\")"
   ]
  },
  {
   "cell_type": "code",
   "execution_count": null,
   "id": "30d3d0f6-27a2-4808-98f6-18f9785f64b6",
   "metadata": {},
   "outputs": [],
   "source": []
  }
 ],
 "metadata": {
  "kernelspec": {
   "display_name": "Python 3 (ipykernel)",
   "language": "python",
   "name": "python3"
  },
  "language_info": {
   "codemirror_mode": {
    "name": "ipython",
    "version": 3
   },
   "file_extension": ".py",
   "mimetype": "text/x-python",
   "name": "python",
   "nbconvert_exporter": "python",
   "pygments_lexer": "ipython3",
   "version": "3.9.7"
  }
 },
 "nbformat": 4,
 "nbformat_minor": 5
}
