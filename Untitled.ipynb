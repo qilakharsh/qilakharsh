{
 "cells": [
  {
   "cell_type": "code",
   "execution_count": 4,
   "id": "e67183cc-367e-4d21-b794-f6a7994f41d7",
   "metadata": {},
   "outputs": [
    {
     "name": "stdout",
     "output_type": "stream",
     "text": [
      "{'Count': '343', 'RetMax': '20', 'RetStart': '0', 'IdList': ['2202903211', '1304164346', '1592021445', '2177973630', '2177973611', '2177710939', '2177699902', '2157228631', '2112722214', '2112713974', '2086907121', '2077483948', '2077483945', '2077483900', '2077481542', '2077481539', '2076537289', '2076528979', '2076518480', '2076515798'], 'TranslationSet': [{'From': 'Oryza sativa', 'To': '\"Oryza sativa\"[Organism] OR Oryza sativa[All Fields]'}], 'TranslationStack': [{'Term': '\"Oryza sativa\"[Organism]', 'Field': 'Organism', 'Count': '2286998', 'Explode': 'Y'}, {'Term': 'Oryza sativa[All Fields]', 'Field': 'All Fields', 'Count': '2927831', 'Explode': 'N'}, 'OR', 'GROUP', {'Term': 'ferritin[All Fields]', 'Field': 'All Fields', 'Count': '131887', 'Explode': 'N'}, 'AND', 'GROUP'], 'QueryTranslation': '(\"Oryza sativa\"[Organism] OR Oryza sativa[All Fields]) AND ferritin[All Fields]'}\n"
     ]
    }
   ],
   "source": [
    "#Code 1\n",
    "\n",
    "from Bio import Entrez\n",
    "\n",
    "Entrez.email = \"localuser@localhost.localdomain\" #Mandatory! Can be replaced with your personal email.\n",
    "\n",
    "#creating handle\n",
    "\n",
    "handle = Entrez.esearch(db=\"nuccore\", term=\"Oryza sativa ferritin\")\n",
    "\n",
    "record = Entrez.read(handle)\n",
    "\n",
    "print(record)\n",
    "\n",
    "handle.close() #always close your handle after you finish"
   ]
  },
  {
   "cell_type": "code",
   "execution_count": 3,
   "id": "f517e4c6-9258-4d2c-b7b2-15742c4d1cdb",
   "metadata": {},
   "outputs": [
    {
     "name": "stdout",
     "output_type": "stream",
     "text": [
      "LOCUS       AF415241                 412 bp    mRNA    linear   PLN 26-JUL-2016\n",
      "DEFINITION  Hordeum vulgare ferritin mRNA, partial cds.\n",
      "ACCESSION   AF415241\n",
      "VERSION     AF415241.1\n",
      "KEYWORDS    .\n",
      "SOURCE      Hordeum vulgare subsp. vulgare (domesticated barley)\n",
      "  ORGANISM  Hordeum vulgare subsp. vulgare\n",
      "            Eukaryota; Viridiplantae; Streptophyta; Embryophyta; Tracheophyta;\n",
      "            Spermatophyta; Magnoliopsida; Liliopsida; Poales; Poaceae; BOP\n",
      "            clade; Pooideae; Triticodae; Triticeae; Hordeinae; Hordeum.\n",
      "REFERENCE   1  (bases 1 to 412)\n",
      "  AUTHORS   Wu,B. and Giese,H.\n",
      "  TITLE     Direct Submission\n",
      "  JOURNAL   Submitted (31-AUG-2001) Plant Research Department, Risoe National\n",
      "            Laboratory, Frederiksborgvej 399, Roskilde DK-4000, Denmark\n",
      "FEATURES             Location/Qualifiers\n",
      "     source          1..412\n",
      "                     /organism=\"Hordeum vulgare subsp. vulgare\"\n",
      "                     /mol_type=\"mRNA\"\n",
      "                     /cultivar=\"Salka\"\n",
      "                     /sub_species=\"vulgare\"\n",
      "                     /db_xref=\"taxon:112509\"\n",
      "     CDS             <1..>412\n",
      "                     /note=\"similar to the Oryza sativa ferritin protein\n",
      "                     encoded by the sequence deposited in GenBank Accession\n",
      "                     Number AF370029\"\n",
      "                     /codon_start=3\n",
      "                     /product=\"ferritin\"\n",
      "                     /protein_id=\"AAL08009.1\"\n",
      "                     /translation=\"VEFNASYAYHSLFAYFDRDNVALKGFAKFFKESSDEERGHAEKL\n",
      "                     MEYQNKRGGRVRLQSIVTPLTEFDHPEKGDALYAMELALALEKLVNEKLHNLHSVATR\n",
      "                     CNDPQLTDFVESEFLQEQVDAIKKISEYVAQLRRV\"\n",
      "ORIGIN      \n",
      "        1 atgtggagtt caatgcatcg tacgcgtatc actccctctt cgcctacttt gaccgcgaca\n",
      "       61 acgttgctct caagggattt gccaagttct tcaaggaatc aagcgacgag gagagaggac\n",
      "      121 acgcggagaa gctcatggag taccagaaca aacgcggagg aagggtgagg ctccagtcaa\n",
      "      181 ttgtcacacc cttaacggag ttcgaccatc ccgagaaagg tgatgccctc tatgcaatgg\n",
      "      241 agttggctct agctcttgaa aagctggtga atgaaaaact gcacaacctg cacagtgtag\n",
      "      301 ctactaggtg caatgatcct cagctgaccg atttcgttga gagtgaattc cttcaggagc\n",
      "      361 aggttgacgc catcaagaag atctctgagt atgtcgccca gctgagaaga gt\n",
      "//\n",
      "\n",
      "\n"
     ]
    }
   ],
   "source": [
    "efetch_handle = Entrez.efetch(db=\"nuccore\", id=\"15788942\", rettype=\"gb\", retmode=\"text\")\n",
    "gbrecord = efetch_handle.read()\n",
    "print(gbrecord)"
   ]
  },
  {
   "cell_type": "code",
   "execution_count": 5,
   "id": "ac887383-3711-447e-bbe6-a01adf8db33d",
   "metadata": {},
   "outputs": [
    {
     "name": "stdout",
     "output_type": "stream",
     "text": [
      ">AF415241.1 Hordeum vulgare ferritin mRNA, partial cds\n",
      "ATGTGGAGTTCAATGCATCGTACGCGTATCACTCCCTCTTCGCCTACTTTGACCGCGACAACGTTGCTCT\n",
      "CAAGGGATTTGCCAAGTTCTTCAAGGAATCAAGCGACGAGGAGAGAGGACACGCGGAGAAGCTCATGGAG\n",
      "TACCAGAACAAACGCGGAGGAAGGGTGAGGCTCCAGTCAATTGTCACACCCTTAACGGAGTTCGACCATC\n",
      "CCGAGAAAGGTGATGCCCTCTATGCAATGGAGTTGGCTCTAGCTCTTGAAAAGCTGGTGAATGAAAAACT\n",
      "GCACAACCTGCACAGTGTAGCTACTAGGTGCAATGATCCTCAGCTGACCGATTTCGTTGAGAGTGAATTC\n",
      "CTTCAGGAGCAGGTTGACGCCATCAAGAAGATCTCTGAGTATGTCGCCCAGCTGAGAAGAGT\n",
      "\n",
      "\n"
     ]
    }
   ],
   "source": [
    "efetch_handle = Entrez.efetch(db=\"nuccore\", id=\"15788942\", rettype=\"fasta\", retmode=\"text\")\n",
    "gbrecord = efetch_handle.read()\n",
    "print(gbrecord)"
   ]
  },
  {
   "cell_type": "code",
   "execution_count": 6,
   "id": "32031454-7645-4b8e-8e4b-1261062ba150",
   "metadata": {},
   "outputs": [
    {
     "name": "stdout",
     "output_type": "stream",
     "text": [
      "LOCUS       AF519571                1215 bp    mRNA    linear   PLN 23-AUG-2004\n",
      "DEFINITION  Oryza sativa (japonica cultivar-group) ferritin (Fer2) mRNA,\n",
      "            complete cds.\n",
      "ACCESSION   AF519571\n",
      "VERSION     AF519571.1\n",
      "KEYWORDS    .\n",
      "SOURCE      Oryza sativa Japonica Group (Japanese rice)\n",
      "  ORGANISM  Oryza sativa Japonica Group\n",
      "            Eukaryota; Viridiplantae; Streptophyta; Embryophyta; Tracheophyta;\n",
      "            Spermatophyta; Magnoliopsida; Liliopsida; Poales; Poaceae; BOP\n",
      "            clade; Oryzoideae; Oryzeae; Oryzinae; Oryza; Oryza sativa.\n",
      "REFERENCE   1  (bases 1 to 1215)\n",
      "  AUTHORS   Groos,J., Stein,J.R., Fett-Neto,A.G. and Fett,J.P.\n",
      "  TITLE     Iron homeostasis related genes in rice\n",
      "  JOURNAL   Genet. Mol. Biol. 26, 477-497 (2003)\n",
      "REFERENCE   2  (bases 1 to 1215)\n",
      "  AUTHORS   Groos,J., Fett-Neto,A.G. and Fett,J.P.\n",
      "  TITLE     Direct Submission\n",
      "  JOURNAL   Submitted (06-JUN-2002) Departamento de Botanica / Centro de\n",
      "            Biotecnologia, Universidade Federal do Rio Grande do Sul, Avenida\n",
      "            Bento Goncalves, 9500. Caixa Postal 15005, Porto Alegre, Rio Grande\n",
      "            do Sul 91501-970, Brazil\n",
      "FEATURES             Location/Qualifiers\n",
      "     source          1..1215\n",
      "                     /organism=\"Oryza sativa Japonica Group\"\n",
      "                     /mol_type=\"mRNA\"\n",
      "                     /cultivar=\"Nipponbare\"\n",
      "                     /db_xref=\"taxon:39947\"\n",
      "                     /chromosome=\"XII\"\n",
      "                     /clone=\"E31449_3A\"\n",
      "                     /tissue_type=\"panicle shorter than 3cm\"\n",
      "                     /note=\"derived from EST AU064475\"\n",
      "     gene            1..1215\n",
      "                     /gene=\"Fer2\"\n",
      "     CDS             70..837\n",
      "                     /gene=\"Fer2\"\n",
      "                     /note=\"iron storage protein; genomic sequence found in\n",
      "                     GenBank Accession Number AL513402\"\n",
      "                     /codon_start=1\n",
      "                     /product=\"ferritin\"\n",
      "                     /protein_id=\"AAM74943.1\"\n",
      "                     /translation=\"MLPPRVAPSSLAAAAAAAPTYLAAAASTPASVWLPVPRGAGAVA\n",
      "                     VCRAAGKGKEVLSGVVFQPFEELKGELSLVPQAKDQSLARQKFVDECEAAISEQINVE\n",
      "                     FNASYAYHSLFAYFDRDNVALKGFAKFFKESSDEERDHAEKLMKYQNMRGGRVRLQSI\n",
      "                     VTPLTEFDHPEKGDALYAMELALALEKLVNEKLHNLHSVASRCNDPQLTDFVESEFLE\n",
      "                     EQVEAIKKISEYVAQLRRVGKGHGVWHFDQKLLEEEA\"\n",
      "ORIGIN      \n",
      "        1 ctcttcaccc gccgcgccgc gaactccgga accgaacgcc acacgcgcct tcctctcact\n",
      "       61 taatccgcca tgcttcctcc tagggttgcc ccctcctctc tggccgccgc cgccgccgcg\n",
      "      121 gcgcctacct atctcgccgc cgcggcctcg acccctgctt ccgtctggct gcctgtgccg\n",
      "      181 cgtggagccg gagccgtggc agtgtgcagg gccgccggga aagggaagga ggtgctcagc\n",
      "      241 ggcgtggtct tccagccatt cgaggagctc aagggggagc tctccctcgt cccccaggcc\n",
      "      301 aaggaccagt ctcttgctag gcaaaagttc gtcgacgagt gcgaggccgc catcagcgag\n",
      "      361 cagatcaatg tggagttcaa tgcatcgtac gcgtaccact cccttttcgc ctactttgac\n",
      "      421 cgtgacaacg ttgctctcaa gggattcgcc aaattcttca aagaatccag cgatgaggag\n",
      "      481 agggatcacg cagagaaact catgaagtac cagaacatgc gtggaggcag ggtgcggctc\n",
      "      541 cagtccatcg tcacaccctt gacagagttc gaccatcctg agaaagggga tgccttgtat\n",
      "      601 gctatggagt tggccttggc tctcgaaaag cttgtaaatg agaagttgca caacctgcac\n",
      "      661 agtgtggcat caaggtgcaa tgatccacag ctgaccgact tcgttgagag cgaattcctt\n",
      "      721 gaggagcagg ttgaagccat caagaagatc tctgagtatg tcgcccagct gagaagagtg\n",
      "      781 ggaaaggggc atggggtgtg gcactttgat cagaagctgc ttgaggaaga agcttgaatg\n",
      "      841 gaggagacgg tgtgaagggc agtagtaggt ttcgtttctt ccatccatgg gatcatgcag\n",
      "      901 ctaaagaaag aaaataagtc gagtctgtgt attcatcaaa ttaagcacgc agtagcaatg\n",
      "      961 gagtgaatga accaaccaat ttggtcatga acttccccct gtgtctaggt cagtagagct\n",
      "     1021 tcagaatcat gtgtatgtcg cgcgtcctcg cagaaaagga acatggcgcg gctggctgta\n",
      "     1081 gcgatacttg tgatattgtg gctatgcatg gagtcatggt gatggtgtat tttggggagc\n",
      "     1141 atttacacgt ttgttgctag agagattttg ctggcagcca gtaaggaaca gtatgataat\n",
      "     1201 ccattgtggt gttaa\n",
      "//\n",
      "\n",
      "\n"
     ]
    }
   ],
   "source": [
    "efetch_handle = Entrez.efetch(db=\"nuccore\", id=\"21686527\", rettype=\"gb\", retmode=\"text\")\n",
    "gbrecord = efetch_handle.read()\n",
    "print(gbrecord)"
   ]
  },
  {
   "cell_type": "code",
   "execution_count": 7,
   "id": "9851bd9e-f4b7-45c0-b47a-4d8f88a27c57",
   "metadata": {},
   "outputs": [
    {
     "name": "stdout",
     "output_type": "stream",
     "text": [
      ">AF519571.1 Oryza sativa (japonica cultivar-group) ferritin (Fer2) mRNA, complete cds\n",
      "CTCTTCACCCGCCGCGCCGCGAACTCCGGAACCGAACGCCACACGCGCCTTCCTCTCACTTAATCCGCCA\n",
      "TGCTTCCTCCTAGGGTTGCCCCCTCCTCTCTGGCCGCCGCCGCCGCCGCGGCGCCTACCTATCTCGCCGC\n",
      "CGCGGCCTCGACCCCTGCTTCCGTCTGGCTGCCTGTGCCGCGTGGAGCCGGAGCCGTGGCAGTGTGCAGG\n",
      "GCCGCCGGGAAAGGGAAGGAGGTGCTCAGCGGCGTGGTCTTCCAGCCATTCGAGGAGCTCAAGGGGGAGC\n",
      "TCTCCCTCGTCCCCCAGGCCAAGGACCAGTCTCTTGCTAGGCAAAAGTTCGTCGACGAGTGCGAGGCCGC\n",
      "CATCAGCGAGCAGATCAATGTGGAGTTCAATGCATCGTACGCGTACCACTCCCTTTTCGCCTACTTTGAC\n",
      "CGTGACAACGTTGCTCTCAAGGGATTCGCCAAATTCTTCAAAGAATCCAGCGATGAGGAGAGGGATCACG\n",
      "CAGAGAAACTCATGAAGTACCAGAACATGCGTGGAGGCAGGGTGCGGCTCCAGTCCATCGTCACACCCTT\n",
      "GACAGAGTTCGACCATCCTGAGAAAGGGGATGCCTTGTATGCTATGGAGTTGGCCTTGGCTCTCGAAAAG\n",
      "CTTGTAAATGAGAAGTTGCACAACCTGCACAGTGTGGCATCAAGGTGCAATGATCCACAGCTGACCGACT\n",
      "TCGTTGAGAGCGAATTCCTTGAGGAGCAGGTTGAAGCCATCAAGAAGATCTCTGAGTATGTCGCCCAGCT\n",
      "GAGAAGAGTGGGAAAGGGGCATGGGGTGTGGCACTTTGATCAGAAGCTGCTTGAGGAAGAAGCTTGAATG\n",
      "GAGGAGACGGTGTGAAGGGCAGTAGTAGGTTTCGTTTCTTCCATCCATGGGATCATGCAGCTAAAGAAAG\n",
      "AAAATAAGTCGAGTCTGTGTATTCATCAAATTAAGCACGCAGTAGCAATGGAGTGAATGAACCAACCAAT\n",
      "TTGGTCATGAACTTCCCCCTGTGTCTAGGTCAGTAGAGCTTCAGAATCATGTGTATGTCGCGCGTCCTCG\n",
      "CAGAAAAGGAACATGGCGCGGCTGGCTGTAGCGATACTTGTGATATTGTGGCTATGCATGGAGTCATGGT\n",
      "GATGGTGTATTTTGGGGAGCATTTACACGTTTGTTGCTAGAGAGATTTTGCTGGCAGCCAGTAAGGAACA\n",
      "GTATGATAATCCATTGTGGTGTTAA\n",
      "\n",
      "\n"
     ]
    }
   ],
   "source": [
    "efetch_handle = Entrez.efetch(db=\"nuccore\", id=\"21686527\", rettype=\"fasta\", retmode=\"text\")\n",
    "gbrecord = efetch_handle.read()\n",
    "print(gbrecord)"
   ]
  },
  {
   "cell_type": "code",
   "execution_count": 8,
   "id": "3a1e4967-d9b1-49f9-af45-7d43917d4b62",
   "metadata": {},
   "outputs": [
    {
     "name": "stdout",
     "output_type": "stream",
     "text": [
      "FASTA Download\n"
     ]
    }
   ],
   "source": [
    "import os\n",
    "\n",
    "#creating EFetch handle\n",
    "filename = \"ferritin Oryza sativa.fasta\" #up to you, but FASTA files always use *.fasta or *.fas\n",
    "\n",
    "#creating EFetch handle\n",
    "if not os.path.isfile(filename):\n",
    "    # Downloading file...\n",
    "    efetch_handle = Entrez.efetch(db=\"nuccore\", id=\"15788942\", rettype=\"fasta\", retmode=\"text\")\n",
    "    output_file_handle = open(filename, \"w\")\n",
    "    output_file_handle.write(efetch_handle.read())\n",
    "    output_file_handle.close()\n",
    "    efetch_handle.close()\n",
    "    print(\"FASTA Download\")"
   ]
  },
  {
   "cell_type": "code",
   "execution_count": 10,
   "id": "4e07864f-b55d-4bd0-8c7b-6ebafeb5cf1c",
   "metadata": {},
   "outputs": [],
   "source": [
    "#creating EFetch handle\n",
    "filename = \"ferritin Oryza sativa complete chloroplast.gbk\" #up to you, but Genbank files always use *.gb or *.gbk\n",
    "\n",
    "#creating EFetch handle\n",
    "if not os.path.isfile(filename):\n",
    "    # Downloading file...\n",
    "    efetch_handle = Entrez.efetch(db=\"nuccore\", id=\"2202903211\", rettype=\"gb\", retmode=\"text\")\n",
    "    output_file_handle = open(filename, \"w\")\n",
    "    output_file_handle.write(efetch_handle.read())\n",
    "    output_file_handle.close()\n",
    "    efetch_handle.close()\n",
    "    print(\"GB Downloaded\")"
   ]
  },
  {
   "cell_type": "code",
   "execution_count": 12,
   "id": "8c3b460c-2c9b-41d1-84e7-dc70b67f9131",
   "metadata": {},
   "outputs": [
    {
     "name": "stdout",
     "output_type": "stream",
     "text": [
      ">ferritin|Oryza nivara chloroplast, complete genome\n",
      "ATGAAGGAGGAGAAAGAAACAATAGTAACGTGGTCCCGGGCATCTAGCATTCTACCCGCAATGGTTGGCCATACAATCGCGATTCATAATGGAAAGGAACATATACCTATTTACATAACAAATCCTATGGTAGGTCGCAAATTGGGGGAATTCGTACCAACTCGGCATTTCACGAGTTATGAAAGTGCAAGAAAGGATACTAAATCTCGTCGTTAA\n"
     ]
    }
   ],
   "source": [
    "from Bio import SeqIO\n",
    "\n",
    "GoI = \"ferritin\" #change \" ferritin \" here with your GoI\n",
    "\n",
    "for genome in SeqIO.parse(\"Oryza sativa complete chloroplast.gbk\",\"genbank\"):\n",
    "    for gene in genome.features:\n",
    "        if gene.type != \"CDS\":\n",
    "            continue\n",
    "        if \"gene\" not in gene.qualifiers:\n",
    "            continue\n",
    "        if GoI not in gene.qualifiers[\"gene\"][0]:\n",
    "            continue\n",
    "    gene_seq = gene.extract(genome.seq)\n",
    "\n",
    "GoI_fasta = \">%s|%s\\n%s\" % (GoI, genome.description, gene_seq)\n",
    "print(GoI_fasta)"
   ]
  },
  {
   "cell_type": "code",
   "execution_count": 13,
   "id": "0e78f63e-96fd-437d-a08a-73f9b9f5d4b1",
   "metadata": {},
   "outputs": [],
   "source": [
    "from Bio import SeqIO\n",
    "\n",
    "GoI = \"ferritin\" \n",
    "\n",
    "for genome in SeqIO.parse(\"Oryza sativa complete chloroplast.gbk\",\"genbank\"):\n",
    "    for gene in genome.features:\n",
    "        if gene.type != \"CDS\":\n",
    "            continue\n",
    "        if \"gene\" not in gene.qualifiers:\n",
    "            continue\n",
    "        if GoI not in gene.qualifiers[\"gene\"][0]:\n",
    "            continue\n",
    "    gene_seq = gene.extract(genome.seq)\n",
    "\n",
    "GoI_fasta = \">%s|%s\\n%s\" % (GoI, genome.description, gene_seq)\n",
    "with open (\"GoI fasta.fasta\",\"w\") as f:\n",
    "    f.write(GoI_fasta)"
   ]
  },
  {
   "cell_type": "code",
   "execution_count": null,
   "id": "906d7ab4-ea36-4e14-8cad-a0a10501fc80",
   "metadata": {},
   "outputs": [],
   "source": []
  }
 ],
 "metadata": {
  "kernelspec": {
   "display_name": "Python 3 (ipykernel)",
   "language": "python",
   "name": "python3"
  },
  "language_info": {
   "codemirror_mode": {
    "name": "ipython",
    "version": 3
   },
   "file_extension": ".py",
   "mimetype": "text/x-python",
   "name": "python",
   "nbconvert_exporter": "python",
   "pygments_lexer": "ipython3",
   "version": "3.9.7"
  }
 },
 "nbformat": 4,
 "nbformat_minor": 5
}
