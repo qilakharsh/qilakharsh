{
 "cells": [
  {
   "cell_type": "code",
   "execution_count": 4,
   "id": "43ead32c-14d7-486b-abdd-5b1e0040b7b0",
   "metadata": {},
   "outputs": [
    {
     "name": "stdout",
     "output_type": "stream",
     "text": [
      "{'Count': '788', 'RetMax': '20', 'RetStart': '0', 'IdList': ['2196197175', '2170488967', '2126532587', '2078044910', '2078044908', '2078044906', '2078044904', '2078044902', '2078044900', '2077486320', '2077483948', '2077483947', '2077483900', '2077481541', '2077481540', '2077481539', '2076539383', '2076537289', '2076534810', '2076518480'], 'TranslationSet': [{'From': 'Oryza sativa', 'To': '\"Oryza sativa\"[Organism] OR Oryza sativa[All Fields]'}], 'TranslationStack': [{'Term': '\"Oryza sativa\"[Organism]', 'Field': 'Organism', 'Count': '2286985', 'Explode': 'Y'}, {'Term': 'Oryza sativa[All Fields]', 'Field': 'All Fields', 'Count': '2927814', 'Explode': 'N'}, 'OR', 'GROUP', {'Term': 'rbcL[All Fields]', 'Field': 'All Fields', 'Count': '353604', 'Explode': 'N'}, 'AND', 'GROUP'], 'QueryTranslation': '(\"Oryza sativa\"[Organism] OR Oryza sativa[All Fields]) AND rbcL[All Fields]'}\n"
     ]
    }
   ],
   "source": [
    "#Code 1\n",
    "\n",
    "from Bio import Entrez\n",
    "\n",
    "Entrez.email = \"localuser@localhost.localdomain\" #Mandatory! Can be replaced with your personal email.\n",
    "\n",
    "#creating handle\n",
    "\n",
    "handle = Entrez.esearch(db=\"nuccore\", term=\"Oryza sativa rbcL\")\n",
    "\n",
    "record = Entrez.read(handle)\n",
    "\n",
    "print(record)\n",
    "\n",
    "handle.close() #always close your handle after you finish"
   ]
  },
  {
   "cell_type": "code",
   "execution_count": 6,
   "id": "4f3b9493-e114-4991-9b78-c420fd400c76",
   "metadata": {},
   "outputs": [
    {
     "name": "stdout",
     "output_type": "stream",
     "text": [
      "LOCUS       MK932669                 850 bp    DNA     linear   PLN 08-FEB-2020\n",
      "DEFINITION  Oryza sativa cultivar Vettuveri voucher CR178 ATP synthase CF1 beta\n",
      "            subunit (atpB) gene, partial cds; atpB-rbcL intergenic spacer,\n",
      "            complete sequence; and ribulose-1,5-bisphosphate\n",
      "            carboxylase/oxygenase large subunit (rbcL) gene, partial cds;\n",
      "            chloroplast.\n",
      "ACCESSION   MK932669\n",
      "VERSION     MK932669.1\n",
      "KEYWORDS    .\n",
      "SOURCE      chloroplast Oryza sativa (rice)\n",
      "  ORGANISM  Oryza sativa\n",
      "            Eukaryota; Viridiplantae; Streptophyta; Embryophyta; Tracheophyta;\n",
      "            Spermatophyta; Magnoliopsida; Liliopsida; Poales; Poaceae; BOP\n",
      "            clade; Oryzoideae; Oryzeae; Oryzinae; Oryza.\n",
      "REFERENCE   1  (bases 1 to 850)\n",
      "  AUTHORS   Dinesh Raj,R., Vinitha,M.R. and George,T.\n",
      "  TITLE     Genetic structure and evoution of cultivated rice (Oryza sativa\n",
      "            L.)and its progenitor Oryza rufipogon Griff.in India\n",
      "  JOURNAL   Unpublished\n",
      "REFERENCE   2  (bases 1 to 850)\n",
      "  AUTHORS   Dinesh Raj,R., Vinitha,M.R. and George,T.\n",
      "  TITLE     Direct Submission\n",
      "  JOURNAL   Submitted (15-MAY-2019) Plant Disease Biology and Biotechnology,\n",
      "            Rajiv Gandhi Centre for Biotechnology, Thycaud P O,\n",
      "            Thiruvananthapuram, Kerala 695014, India\n",
      "COMMENT     ##Assembly-Data-START##\n",
      "            Sequencing Technology :: Sanger dideoxy sequencing\n",
      "            ##Assembly-Data-END##\n",
      "FEATURES             Location/Qualifiers\n",
      "     source          1..850\n",
      "                     /organism=\"Oryza sativa\"\n",
      "                     /organelle=\"plastid:chloroplast\"\n",
      "                     /mol_type=\"genomic DNA\"\n",
      "                     /cultivar=\"Vettuveri\"\n",
      "                     /specimen_voucher=\"CR178\"\n",
      "                     /db_xref=\"taxon:4530\"\n",
      "                     /country=\"India\"\n",
      "     gene            complement(<1..53)\n",
      "                     /gene=\"atpB\"\n",
      "     CDS             complement(<1..53)\n",
      "                     /gene=\"atpB\"\n",
      "                     /codon_start=1\n",
      "                     /transl_table=11\n",
      "                     /product=\"ATP synthase CF1 beta subunit\"\n",
      "                     /protein_id=\"QHS39386.1\"\n",
      "                     /translation=\"MRTNPTTSRPGVSTIEE\"\n",
      "     misc_feature    54..829\n",
      "                     /note=\"atpB-rbcL intergenic spacer\"\n",
      "     gene            830..>850\n",
      "                     /gene=\"rbcL\"\n",
      "     CDS             830..>850\n",
      "                     /gene=\"rbcL\"\n",
      "                     /codon_start=1\n",
      "                     /transl_table=11\n",
      "                     /product=\"ribulose-1,5-bisphosphate carboxylase/oxygenase\n",
      "                     large subunit\"\n",
      "                     /protein_id=\"QHS39387.1\"\n",
      "                     /translation=\"MSCREGR\"\n",
      "ORIGIN      \n",
      "        1 ttttcttcaa ttgtagaaac cccgggacga gaagtagtag gattggttct cataattatc\n",
      "       61 acataatttt caaaaaaaag gaatttatcg aaattttgat ttttttcttg ttgaataatg\n",
      "      121 ccaaatcaac accaaaaaaa tatccaaaaa tccaaaagtc aaaaggaaat gaattagtta\n",
      "      181 attcaataag agagaaaagg ggaccagcac ttgatttcgt tgcccaaacg aatcccattc\n",
      "      241 aatcgtttac tcatggaatg agtccgtcgg aaagttcaat caatcttttt ttcatataca\n",
      "      301 ttttgccttt tgtaaacgat ttgtgcctac tctactttct tatctaggac ttcgatatac\n",
      "      361 aaaatatata ctactgtgaa gcatagattg ctgtcaacag agaattttcg tagtatttag\n",
      "      421 gtatttccac tcaaaataag aaaagggggt ctattaagaa cttaataagg attagaagtt\n",
      "      481 gatttggggt tgcgctatat ctattaaaga gtatacaata aagatggatt tggtgaatca\n",
      "      541 aatccatggt ttaataacga agcatgttaa cttaccataa caacaactca attcttatcg\n",
      "      601 aattcctata gtagaattcc tatagcatag aatgtacaca gggtgtaccc attatatatg\n",
      "      661 aatgaaacat attatatgaa tgaaacatat tcattaactt aagcatgccc cccattttct\n",
      "      721 ttaatgagtt gatattaatt gaatatcttt tttttaagat ttttgcaaag gtttcattta\n",
      "      781 cgcctaatcc atatcgagta gaccctgtcg ttgtgagaat tcttaattca tgagttgtag\n",
      "      841 ggagggacgt\n",
      "//\n",
      "\n",
      "\n"
     ]
    }
   ],
   "source": [
    "efetch_handle = Entrez.efetch(db=\"nuccore\", id=\"1804496830\", rettype=\"gb\", retmode=\"text\")\n",
    "gbrecord = efetch_handle.read()\n",
    "print(gbrecord)"
   ]
  },
  {
   "cell_type": "code",
   "execution_count": 7,
   "id": "6d54f8a8-0b6b-42ab-a75a-550a6b604edc",
   "metadata": {},
   "outputs": [
    {
     "name": "stdout",
     "output_type": "stream",
     "text": [
      ">MK932669.1 Oryza sativa cultivar Vettuveri voucher CR178 ATP synthase CF1 beta subunit (atpB) gene, partial cds; atpB-rbcL intergenic spacer, complete sequence; and ribulose-1,5-bisphosphate carboxylase/oxygenase large subunit (rbcL) gene, partial cds; chloroplast\n",
      "TTTTCTTCAATTGTAGAAACCCCGGGACGAGAAGTAGTAGGATTGGTTCTCATAATTATCACATAATTTT\n",
      "CAAAAAAAAGGAATTTATCGAAATTTTGATTTTTTTCTTGTTGAATAATGCCAAATCAACACCAAAAAAA\n",
      "TATCCAAAAATCCAAAAGTCAAAAGGAAATGAATTAGTTAATTCAATAAGAGAGAAAAGGGGACCAGCAC\n",
      "TTGATTTCGTTGCCCAAACGAATCCCATTCAATCGTTTACTCATGGAATGAGTCCGTCGGAAAGTTCAAT\n",
      "CAATCTTTTTTTCATATACATTTTGCCTTTTGTAAACGATTTGTGCCTACTCTACTTTCTTATCTAGGAC\n",
      "TTCGATATACAAAATATATACTACTGTGAAGCATAGATTGCTGTCAACAGAGAATTTTCGTAGTATTTAG\n",
      "GTATTTCCACTCAAAATAAGAAAAGGGGGTCTATTAAGAACTTAATAAGGATTAGAAGTTGATTTGGGGT\n",
      "TGCGCTATATCTATTAAAGAGTATACAATAAAGATGGATTTGGTGAATCAAATCCATGGTTTAATAACGA\n",
      "AGCATGTTAACTTACCATAACAACAACTCAATTCTTATCGAATTCCTATAGTAGAATTCCTATAGCATAG\n",
      "AATGTACACAGGGTGTACCCATTATATATGAATGAAACATATTATATGAATGAAACATATTCATTAACTT\n",
      "AAGCATGCCCCCCATTTTCTTTAATGAGTTGATATTAATTGAATATCTTTTTTTTAAGATTTTTGCAAAG\n",
      "GTTTCATTTACGCCTAATCCATATCGAGTAGACCCTGTCGTTGTGAGAATTCTTAATTCATGAGTTGTAG\n",
      "GGAGGGACGT\n",
      "\n",
      "\n"
     ]
    }
   ],
   "source": [
    "efetch_handle = Entrez.efetch(db=\"nuccore\", id=\"1804496830\", rettype=\"fasta\", retmode=\"text\")\n",
    "gbrecord = efetch_handle.read()\n",
    "print(gbrecord)"
   ]
  },
  {
   "cell_type": "code",
   "execution_count": 10,
   "id": "87c40990-2a23-4485-9aee-ae99c6586d98",
   "metadata": {},
   "outputs": [
    {
     "name": "stdout",
     "output_type": "stream",
     "text": [
      "FASTA Download\n"
     ]
    }
   ],
   "source": [
    "import os\n",
    "\n",
    "#creating EFetch handle\n",
    "filename = \"rbcL Oryza sativa.fasta\" #up to you, but FASTA files always use *.fasta or *.fas\n",
    "\n",
    "#creating EFetch handle\n",
    "if not os.path.isfile(filename):\n",
    "    # Downloading file...\n",
    "    efetch_handle = Entrez.efetch(db=\"nuccore\", id=\"1804496830\", rettype=\"fasta\", retmode=\"text\")\n",
    "    output_file_handle = open(filename, \"w\")\n",
    "    output_file_handle.write(efetch_handle.read())\n",
    "    output_file_handle.close()\n",
    "    efetch_handle.close()\n",
    "    print(\"FASTA Download\")"
   ]
  },
  {
   "cell_type": "code",
   "execution_count": 11,
   "id": "0159f18d-9d46-403a-bd49-89d424f45e9b",
   "metadata": {},
   "outputs": [
    {
     "name": "stdout",
     "output_type": "stream",
     "text": [
      "GB Downloaded\n"
     ]
    }
   ],
   "source": [
    "#creating EFetch handle\n",
    "filename = \"Oryza sativa complete chloroplast.gbk\" #up to you, but Genbank files always use *.gb or *.gbk\n",
    "\n",
    "#creating EFetch handle\n",
    "if not os.path.isfile(filename):\n",
    "    # Downloading file...\n",
    "    efetch_handle = Entrez.efetch(db=\"nuccore\", id=\"2196197175\", rettype=\"gb\", retmode=\"text\")\n",
    "    output_file_handle = open(filename, \"w\")\n",
    "    output_file_handle.write(efetch_handle.read())\n",
    "    output_file_handle.close()\n",
    "    efetch_handle.close()\n",
    "    print(\"GB Downloaded\")"
   ]
  },
  {
   "cell_type": "code",
   "execution_count": 15,
   "id": "57bf83c8-d1db-4bb2-96e9-b60554c05d04",
   "metadata": {},
   "outputs": [
    {
     "name": "stdout",
     "output_type": "stream",
     "text": [
      ">rbcL|Oryza nivara chloroplast, complete genome\n",
      "ATGTCACCACAAACAGAAACTAAAGCAAGTGTTGGATTTAAAGCTGGTGTTAAGGATTATAAATTGACTTACTACACCCCGGAGTACGAAACCAAGGACACTGATATCTTGGCAGCATTCCGAGTAACTCCTCAGCCGGGGGTTCCGCCCGAAGAAGCAGGGGCTGCAGTAGCTGCCGAATCTTCTACTGGTACATGGACAACTGTTTGGACTGATGGACTTACCAGTCTTGATCGTTACAAAGGCCGATGCTATCACATCGAGCCCGTTGTTGGGGAGGATAATCAATATATCGCTTATGTAGCTTATCCATTAGACCTATTTGAAGAGGGTTCTGTTACTAACATGTTTACTTCCATTGTGGGTAACGTATTTGGTTTCAAAGCCCTACGCGCTCTACGTCTGGAGGATCTGCGAATTCCCCCTACTTATTCAAAAACTTTCCAAGGTCCGCCTCATGGTATCCAAGTTGAAAGGGATAAGTTGAACAAATACGGTCGTCCTTTATTGGGATGTACTATTAAACCAAAATTGGGATTATCTGCAAAAAATTATGGTAGAGCATGTTATGAGTGTCTACGCGGTGGACTTGATTTTACCAAAGATGATGAAAACGTAAACTCACAACCATTTATGCGTTGGAGGGACCGTTTTGTCTTTTGTGCCGAAGCTATTTATAAATCACAGGCCGAAACCGGTGAAATTAAGGGGCATTACTTGAATGCGACTGCAGGTACATGCGAAGAAATGATTAAAAGAGCTGTATTTGCGAGGGAATTAGGGGTTCCTATTGTAATGCATGACTACTTAACCGGGGGATTCACCGCAAATACTAGTTTGGCTCATTATTGCCGCGACAACGGCCTACTTCTTCACATTCACCGAGCAATGCATGCAGTTATTGATAGACAGAAAAATCATGGTATGCATTTCCGTGTATTAGCTAAAGCATTGCGTATGTCTGGGGGAGATCATATCCACGCTGGTACAGTAGTAGGTAAGTTAGAAGGGGAACGCGAAATGACTTTAGGTTTTGTTGATTTATTGCGCGATGATTTTATTGAAAAAGATCGTGCTCGCGGTATCTTTTTCACTCAGGACTGGGTATCCATGCCAGGTGTTATACCGGTGGCTTCAGGGGGTATTCATGTTTGGCATATGCCAGCTCTGACCGAAATCTTTGGAGATGATTCTGTATTGCAATTTGGTGGAGGAACTTTAGGACATCCTTGGGGTAATGCACCTGGTGCAGCAGCTAATCGGGTGGCTTTAGAAGCCTGTGTACAAGCTCGTAACGAAGGGCGCGATCTTGCTCGTGAAGGTAATGAAATTATCCGATCAGCTTGCAAATGGAGTCCTGAACTAGCCGCAGCTTGTGAAATATGGAAAGCGATCAAATTCGAGTTCGAGCCGGTAGATAAACTAGATAGCTAG\n"
     ]
    }
   ],
   "source": [
    "from Bio import SeqIO\n",
    "\n",
    "GoI = \"rbcL\" #change \" rbcL\" here with your GoI\n",
    "\n",
    "for genome in SeqIO.parse(\"Oryza sativa complete chloroplast.gbk\",\"genbank\"):\n",
    "    for gene in genome.features:\n",
    "        if gene.type != \"CDS\":\n",
    "            continue\n",
    "        if \"gene\" not in gene.qualifiers:\n",
    "            continue\n",
    "        if GoI not in gene.qualifiers[\"gene\"][0]:\n",
    "            continue\n",
    "        gene_seq = gene.extract(genome.seq)\n",
    "\n",
    "GoI_fasta = \">%s|%s\\n%s\" % (GoI, genome.description, gene_seq)\n",
    "print(GoI_fasta)"
   ]
  },
  {
   "cell_type": "code",
   "execution_count": 1,
   "id": "5f185dfe-e948-46a4-9b00-52dbaf3641ce",
   "metadata": {},
   "outputs": [],
   "source": [
    "from Bio import SeqIO\n",
    "\n",
    "GoI = \"rbcL\" \n",
    "\n",
    "for genome in SeqIO.parse(\"Oryza sativa complete chloroplast.gbk\",\"genbank\"):\n",
    "    for gene in genome.features:\n",
    "        if gene.type != \"CDS\":\n",
    "            continue\n",
    "        if \"gene\" not in gene.qualifiers:\n",
    "            continue\n",
    "        if GoI not in gene.qualifiers[\"gene\"][0]:\n",
    "            continue\n",
    "    gene_seq = gene.extract(genome.seq)\n",
    "\n",
    "GoI_fasta = \">%s|%s\\n%s\" % (GoI, genome.description, gene_seq)\n",
    "with open (\"GoI fasta.fasta\",\"w\") as f:\n",
    "    f.write(GoI_fasta)"
   ]
  },
  {
   "cell_type": "code",
   "execution_count": null,
   "id": "c7816552-8791-4fc4-8b26-1864fbe49b12",
   "metadata": {},
   "outputs": [],
   "source": []
  }
 ],
 "metadata": {
  "kernelspec": {
   "display_name": "Python 3 (ipykernel)",
   "language": "python",
   "name": "python3"
  },
  "language_info": {
   "codemirror_mode": {
    "name": "ipython",
    "version": 3
   },
   "file_extension": ".py",
   "mimetype": "text/x-python",
   "name": "python",
   "nbconvert_exporter": "python",
   "pygments_lexer": "ipython3",
   "version": "3.9.7"
  }
 },
 "nbformat": 4,
 "nbformat_minor": 5
}
